{
 "cells": [
  {
   "cell_type": "code",
   "execution_count": 1,
   "id": "ca704e5c-784f-441a-85ed-2cc0e9cbaa56",
   "metadata": {},
   "outputs": [
    {
     "name": "stderr",
     "output_type": "stream",
     "text": [
      "<frozen importlib._bootstrap>:219: RuntimeWarning: scipy._lib.messagestream.MessageStream size changed, may indicate binary incompatibility. Expected 56 from C header, got 64 from PyObject\n"
     ]
    }
   ],
   "source": [
    "#UTKARSH SABOO\n",
    "#RA2011003011248\n",
    "#Question 3 - CT3 Lab\n",
    "import numpy as np\n",
    "\n",
    "# Importing standard Qiskit libraries\n",
    "from qiskit import QuantumCircuit, transpile, Aer, IBMQ\n",
    "from qiskit.tools.jupyter import *\n",
    "from qiskit.visualization import *\n",
    "from ibm_quantum_widgets import *\n",
    "from qiskit.providers.aer import QasmSimulator\n",
    "\n",
    "# Loading your IBM Quantum account(s)\n",
    "provider = IBMQ.load_account()"
   ]
  },
  {
   "cell_type": "code",
   "execution_count": 2,
   "id": "e0da946c-6f55-4500-9146-79f3a40427a9",
   "metadata": {},
   "outputs": [],
   "source": [
    "import matplotlib.pyplot as plt\n",
    "import numpy as np\n",
    "from qiskit import IBMQ, Aer, assemble, transpile\n",
    "from qiskit import QuantumCircuit, ClassicalRegister, QuantumRegister\n",
    "from qiskit.providers.ibmq import least_busy\n",
    "from qiskit.visualization import plot_histogram"
   ]
  },
  {
   "cell_type": "code",
   "execution_count": 3,
   "id": "f5559605-265f-4bae-9c10-2f0b6a3f3569",
   "metadata": {},
   "outputs": [],
   "source": [
    "def initialize_s(qc, qubits):\n",
    "    for q in qubits:\n",
    "        qc.h(q)\n",
    "    return qc"
   ]
  },
  {
   "cell_type": "code",
   "execution_count": 4,
   "id": "7574ab93-57ed-4b2c-a230-b56bcaf4720f",
   "metadata": {},
   "outputs": [
    {
     "data": {
      "image/png": "[encoded data removed]",
      "text/plain": [
       "<Figure size 206.852x144.48 with 1 Axes>"
      ]
     },
     "execution_count": 4,
     "metadata": {},
     "output_type": "execute_result"
    }
   ],
   "source": [
    "n = 2\n",
    "grover_circuit = QuantumCircuit(n)\n",
    "\n",
    "grover_circuit = initialize_s(grover_circuit, [0,1])\n",
    "grover_circuit.draw()\n",
    "\n",
    "grover_circuit.cz(0,1)\n",
    "grover_circuit.draw()"
   ]
  },
  {
   "cell_type": "code",
   "execution_count": 5,
   "id": "97320112-9320-4c28-9e93-0fadd8c1b778",
   "metadata": {},
   "outputs": [
    {
     "data": {
      "image/png": "[encoded data removed]",
      "text/plain": [
       "<Figure size 447.652x144.48 with 1 Axes>"
      ]
     },
     "execution_count": 5,
     "metadata": {},
     "output_type": "execute_result"
    }
   ],
   "source": [
    "grover_circuit.h([0,1])\n",
    "grover_circuit.x([1])\n",
    "grover_circuit.cz(1,0)\n",
    "grover_circuit.h([0,1])\n",
    "grover_circuit.draw()"
   ]
  },
  {
   "cell_type": "code",
   "execution_count": 6,
   "id": "b7edd881-10b3-49b1-91a0-3ed42f4bd6d7",
   "metadata": {},
   "outputs": [
    {
     "data": {
      "text/latex": [
       "$\\displaystyle \n",
       "$$ |\\psi\\rangle =\\begin{bmatrix}\n",
       "0 \\\\\n",
       "1 \\\\\n",
       "0 \\\\\n",
       "0\\end{bmatrix} $"
      ],
      "text/plain": [
       "<IPython.core.display.Math object>"
      ]
     },
     "metadata": {},
     "output_type": "display_data"
    }
   ],
   "source": [
    "sim = Aer.get_backend('aer_simulator')\n",
    "grover_circuit_sim = grover_circuit.copy()\n",
    "grover_circuit_sim.save_statevector()\n",
    "qobj = assemble(grover_circuit_sim)\n",
    "result = sim.run(qobj).result()\n",
    "statevec = result.get_statevector()\n",
    "from qiskit_textbook.tools import vector2latex\n",
    "vector2latex(statevec, pretext=\"|\\\\psi\\\\rangle =\")"
   ]
  },
  {
   "cell_type": "code",
   "execution_count": 7,
   "id": "43efbba4-8dc2-459b-8093-27e0bfe46e04",
   "metadata": {},
   "outputs": [
    {
     "data": {
      "image/png": "[encoded data removed]",
      "text/plain": [
       "<Figure size 504x360 with 1 Axes>"
      ]
     },
     "execution_count": 7,
     "metadata": {},
     "output_type": "execute_result"
    }
   ],
   "source": [
    "grover_circuit.measure_all()\n",
    "\n",
    "aer_sim = Aer.get_backend('aer_simulator')\n",
    "qobj = assemble(grover_circuit)\n",
    "result = aer_sim.run(qobj).result()\n",
    "counts = result.get_counts()\n",
    "plot_histogram(counts)"
   ]
  },
  {
   "cell_type": "code",
   "execution_count": 8,
   "id": "3d32c543-274e-4873-8775-d7fc941c1594",
   "metadata": {},
   "outputs": [
    {
     "name": "stderr",
     "output_type": "stream",
     "text": [
      "ibmqfactory.load_account:WARNING:2022-11-25 16:34:36,829: Credentials are already in use. The existing account in the session will be replaced.\n"
     ]
    },
    {
     "name": "stdout",
     "output_type": "stream",
     "text": [
      "Running on current least busy device:  ibmq_lima\n"
     ]
    }
   ],
   "source": [
    "provider = IBMQ.load_account()\n",
    "provider = IBMQ.get_provider(\"ibm-q\")\n",
    "device = least_busy(provider.backends(filters=lambda x: int(x.configuration().n_qubits) >= 3 and \n",
    "                                   not x.configuration().simulator and x.status().operational==True))\n",
    "print(\"Running on current least busy device: \", device)"
   ]
  },
  {
   "cell_type": "code",
   "execution_count": 9,
   "id": "1971fbe3-672e-4762-be82-b1754584355f",
   "metadata": {},
   "outputs": [
    {
     "name": "stdout",
     "output_type": "stream",
     "text": [
      "Job Status: job has successfully run\n"
     ]
    }
   ],
   "source": [
    "from qiskit.tools.monitor import job_monitor\n",
    "transpiled_grover_circuit = transpile(grover_circuit, device, optimization_level=3)\n",
    "job = device.run(transpiled_grover_circuit)\n",
    "job_monitor(job, interval=2)"
   ]
  },
  {
   "cell_type": "code",
   "execution_count": 10,
   "id": "99dde872-87d4-4c60-91e6-bdb6507fe146",
   "metadata": {},
   "outputs": [
    {
     "data": {
      "image/png": "[encoded data removed]",
      "text/plain": [
       "<Figure size 504x360 with 1 Axes>"
      ]
     },
     "execution_count": 10,
     "metadata": {},
     "output_type": "execute_result"
    }
   ],
   "source": [
    "results = job.result()\n",
    "answer = results.get_counts(grover_circuit)\n",
    "plot_histogram(answer)"
   ]
  },
  {
   "cell_type": "code",
   "execution_count": null,
   "id": "261fb871-6fba-41fc-85af-91254d134318",
   "metadata": {},
   "outputs": [],
   "source": []
  }
 ],
 "metadata": {
  "kernelspec": {
   "display_name": "Python 3 (ipykernel)",
   "language": "python",
   "name": "python3"
  },
  "language_info": {
   "codemirror_mode": {
    "name": "ipython",
    "version": 3
   },
   "file_extension": ".py",
   "mimetype": "text/x-python",
   "name": "python",
   "nbconvert_exporter": "python",
   "pygments_lexer": "ipython3",
   "version": "3.8.13"
  },
  "widgets": {
   "application/vnd.jupyter.widget-state+json": {
    "state": {
     "0730d7a2c1224a54905b7e7bc39d8108": {
      "model_module": "@jupyter-widgets/controls",
      "model_module_version": "1.5.0",
      "model_name": "DescriptionStyleModel",
      "state": {
       "description_width": ""
      }
     },
     "0a302286d2684f2f88456cd954df2386": {
      "model_module": "@jupyter-widgets/base",
      "model_module_version": "1.2.0",
      "model_name": "LayoutModel",
      "state": {
       "width": "145px"
      }
     },
     "1194a825ffbe4798ae977ee1019a5cbd": {
      "model_module": "@jupyter-widgets/controls",
      "model_module_version": "1.5.0",
      "model_name": "DescriptionStyleModel",
      "state": {
       "description_width": ""
      }
     },
     "11a85a2821814c3ea58daf7ac8c19252": {
      "model_module": "@jupyter-widgets/base",
      "model_module_version": "1.2.0",
      "model_name": "LayoutModel",
      "state": {
       "width": "145px"
      }
     },
     "1b8f5fa76e714c4a8b59a70bcc0c3597": {
      "model_module": "@jupyter-widgets/controls",
      "model_module_version": "1.5.0",
      "model_name": "HTMLModel",
      "state": {
       "layout": "IPY_MODEL_2ac8ec3da94d4a1eacd9f5f3ed210286",
       "style": "IPY_MODEL_4d95346df1634156a3df462984c6de8c",
       "value": "<h5>Message</h5>"
      }
     },
     "1cc6bca5962045eea202d63e7cf36ae7": {
      "model_module": "@jupyter-widgets/controls",
      "model_module_version": "1.5.0",
      "model_name": "DescriptionStyleModel",
      "state": {
       "description_width": ""
      }
     },
     "25f8318ed0094ae7a010d05f96322d65": {
      "model_module": "@jupyter-widgets/controls",
      "model_module_version": "1.5.0",
      "model_name": "HTMLModel",
      "state": {
       "layout": "IPY_MODEL_43b333d0a3e74d798ad999ad6b9179ee",
       "style": "IPY_MODEL_d2d9ea6c0c6a43fc9b6d006658bc0fb6",
       "value": "<h5>Queue</h5>"
      }
     },
     "264e26715b9d48cfaed8f7fd91e8e66c": {
      "model_module": "@jupyter-widgets/base",
      "model_module_version": "1.2.0",
      "model_name": "LayoutModel",
      "state": {
       "width": "70px"
      }
     },
     "26f45d67e73f4d409ceb124ee3cb2386": {
      "model_module": "@jupyter-widgets/base",
      "model_module_version": "1.2.0",
      "model_name": "LayoutModel",
      "state": {
       "margin": "0px 5px 0px 0px",
       "width": "32px"
      }
     },
     "2ac8ec3da94d4a1eacd9f5f3ed210286": {
      "model_module": "@jupyter-widgets/base",
      "model_module_version": "1.2.0",
      "model_name": "LayoutModel",
      "state": {}
     },
     "2f2a998a5d8247f685d303748dcbd47a": {
      "model_module": "@jupyter-widgets/base",
      "model_module_version": "1.2.0",
      "model_name": "LayoutModel",
      "state": {
       "margin": "0px 0px 0px 37px",
       "width": "600px"
      }
     },
     "310011efb8cf4cc4b74b423d73663345": {
      "model_module": "@jupyter-widgets/controls",
      "model_module_version": "1.5.0",
      "model_name": "ButtonModel",
      "state": {
       "icon": "close",
       "layout": "IPY_MODEL_26f45d67e73f4d409ceb124ee3cb2386",
       "style": "IPY_MODEL_f1901f3b36634405a831b1681371e002"
      }
     },
     "43b333d0a3e74d798ad999ad6b9179ee": {
      "model_module": "@jupyter-widgets/base",
      "model_module_version": "1.2.0",
      "model_name": "LayoutModel",
      "state": {
       "width": "70px"
      }
     },
     "4868662d4499432d81a200b2ce2a759d": {
      "model_module": "@jupyter-widgets/controls",
      "model_module_version": "1.5.0",
      "model_name": "ButtonModel",
      "state": {
       "button_style": "primary",
       "description": "Clear",
       "layout": "IPY_MODEL_b156b725d87b4226b627a792bf837ebd",
       "style": "IPY_MODEL_a63d89dee0dc4ca3b3fd3b113c296d7a"
      }
     },
     "4d95346df1634156a3df462984c6de8c": {
      "model_module": "@jupyter-widgets/controls",
      "model_module_version": "1.5.0",
      "model_name": "DescriptionStyleModel",
      "state": {
       "description_width": ""
      }
     },
     "509a400497864bd6a4d85df363e1044e": {
      "model_module": "@jupyter-widgets/controls",
      "model_module_version": "1.5.0",
      "model_name": "HTMLModel",
      "state": {
       "layout": "IPY_MODEL_264e26715b9d48cfaed8f7fd91e8e66c",
       "style": "IPY_MODEL_0730d7a2c1224a54905b7e7bc39d8108",
       "value": "-"
      }
     },
     "554fd664e71c41b7aa4b3dfd9aa208ed": {
      "model_module": "@jupyter-widgets/controls",
      "model_module_version": "1.5.0",
      "model_name": "HTMLModel",
      "state": {
       "layout": "IPY_MODEL_f0e8c592d5e348d9bf83484a9926ce4c",
       "style": "IPY_MODEL_ad6b51415b894a1a9328f9e78cbbc9ba",
       "value": "6380eea3754e46331b4d28e7"
      }
     },
     "5a745c42bae64e99bf98781f89bb059c": {
      "model_module": "@jupyter-widgets/controls",
      "model_module_version": "1.5.0",
      "model_name": "HTMLModel",
      "state": {
       "layout": "IPY_MODEL_c1bc63926f494bbb8a32b4b0cf284853",
       "style": "IPY_MODEL_e50376fdd5fb41ccb4e51fff84ad56ce",
       "value": "<font style='color:#34BC6E'>DONE</font>"
      }
     },
     "60036ea4e3ba4fab869e00229944799c": {
      "model_module": "@jupyter-widgets/controls",
      "model_module_version": "1.5.0",
      "model_name": "GridBoxModel",
      "state": {
       "children": [
        "IPY_MODEL_4868662d4499432d81a200b2ce2a759d"
       ],
       "layout": "IPY_MODEL_b971397649cc4b0e8b80088ede156dfa"
      }
     },
     "60416c0f042f405d82c81d11b791fc31": {
      "model_module": "@jupyter-widgets/controls",
      "model_module_version": "1.5.0",
      "model_name": "DescriptionStyleModel",
      "state": {
       "description_width": ""
      }
     },
     "691f3fd54ebc432e9c44dd659274bf76": {
      "model_module": "@jupyter-widgets/base",
      "model_module_version": "1.2.0",
      "model_name": "LayoutModel",
      "state": {
       "max_width": "700px",
       "min_width": "700px"
      }
     },
     "69e8eec0583147509e0a5df6c669c2e2": {
      "model_module": "@jupyter-widgets/controls",
      "model_module_version": "1.5.0",
      "model_name": "HTMLModel",
      "state": {
       "layout": "IPY_MODEL_d86ed90d185447daab19b67140a8137e",
       "style": "IPY_MODEL_becb593208b041ed94a99e6d7256ae42",
       "value": "<p style='font-family: IBM Plex Sans, Arial, Helvetica, sans-serif; font-size: 20px; font-weight: medium;'>Circuit Properties</p>"
      }
     },
     "7151892d3e06472d87cef980c1f477fb": {
      "model_module": "@jupyter-widgets/controls",
      "model_module_version": "1.5.0",
      "model_name": "HBoxModel",
      "state": {
       "children": [
        "IPY_MODEL_310011efb8cf4cc4b74b423d73663345",
        "IPY_MODEL_554fd664e71c41b7aa4b3dfd9aa208ed",
        "IPY_MODEL_cb8a624a188c470f8010c7e7d4513888",
        "IPY_MODEL_5a745c42bae64e99bf98781f89bb059c",
        "IPY_MODEL_509a400497864bd6a4d85df363e1044e",
        "IPY_MODEL_b8e9d767f5ea4bdd9da4c00985ff6cd8"
       ],
       "layout": "IPY_MODEL_691f3fd54ebc432e9c44dd659274bf76"
      }
     },
     "7d634147185b400b83d1c7bde54aab87": {
      "model_module": "@jupyter-widgets/base",
      "model_module_version": "1.2.0",
      "model_name": "LayoutModel",
      "state": {
       "width": "95px"
      }
     },
     "7f3c65752bb6480a88e2174c3085bc72": {
      "model_module": "@jupyter-widgets/controls",
      "model_module_version": "1.5.0",
      "model_name": "HTMLModel",
      "state": {
       "layout": "IPY_MODEL_0a302286d2684f2f88456cd954df2386",
       "style": "IPY_MODEL_60416c0f042f405d82c81d11b791fc31",
       "value": "<h5>Backend</h5>"
      }
     },
     "859bdb0da77a4ae1b7cc6d34eb6754a8": {
      "model_module": "@jupyter-widgets/controls",
      "model_module_version": "1.5.0",
      "model_name": "DescriptionStyleModel",
      "state": {
       "description_width": ""
      }
     },
     "a63d89dee0dc4ca3b3fd3b113c296d7a": {
      "model_module": "@jupyter-widgets/controls",
      "model_module_version": "1.5.0",
      "model_name": "ButtonStyleModel",
      "state": {}
     },
     "ad6b51415b894a1a9328f9e78cbbc9ba": {
      "model_module": "@jupyter-widgets/controls",
      "model_module_version": "1.5.0",
      "model_name": "DescriptionStyleModel",
      "state": {
       "description_width": ""
      }
     },
     "ae897e310bf74fd0a25865b22bd23cdc": {
      "model_module": "@jupyter-widgets/base",
      "model_module_version": "1.2.0",
      "model_name": "LayoutModel",
      "state": {
       "overflow_x": "scroll"
      }
     },
     "b156b725d87b4226b627a792bf837ebd": {
      "model_module": "@jupyter-widgets/base",
      "model_module_version": "1.2.0",
      "model_name": "LayoutModel",
      "state": {
       "grid_area": "right",
       "padding": "0px 0px 0px 0px",
       "width": "70px"
      }
     },
     "b8e9d767f5ea4bdd9da4c00985ff6cd8": {
      "model_module": "@jupyter-widgets/controls",
      "model_module_version": "1.5.0",
      "model_name": "HTMLModel",
      "state": {
       "layout": "IPY_MODEL_ae897e310bf74fd0a25865b22bd23cdc",
       "style": "IPY_MODEL_1cc6bca5962045eea202d63e7cf36ae7",
       "value": "job has successfully run"
      }
     },
     "b971397649cc4b0e8b80088ede156dfa": {
      "model_module": "@jupyter-widgets/base",
      "model_module_version": "1.2.0",
      "model_name": "LayoutModel",
      "state": {
       "grid_template_areas": "\n                                       \". . . . right \"\n                                        ",
       "grid_template_columns": "20% 20% 20% 20% 20%",
       "width": "100%"
      }
     },
     "bbeff1055b40400b8857b26ee3d59951": {
      "model_module": "@jupyter-widgets/controls",
      "model_module_version": "1.5.0",
      "model_name": "HTMLModel",
      "state": {
       "layout": "IPY_MODEL_7d634147185b400b83d1c7bde54aab87",
       "style": "IPY_MODEL_1194a825ffbe4798ae977ee1019a5cbd",
       "value": "<h5>Status</h5>"
      }
     },
     "becb593208b041ed94a99e6d7256ae42": {
      "model_module": "@jupyter-widgets/controls",
      "model_module_version": "1.5.0",
      "model_name": "DescriptionStyleModel",
      "state": {
       "description_width": ""
      }
     },
     "c1bc63926f494bbb8a32b4b0cf284853": {
      "model_module": "@jupyter-widgets/base",
      "model_module_version": "1.2.0",
      "model_name": "LayoutModel",
      "state": {
       "width": "95px"
      }
     },
     "cb8a624a188c470f8010c7e7d4513888": {
      "model_module": "@jupyter-widgets/controls",
      "model_module_version": "1.5.0",
      "model_name": "HTMLModel",
      "state": {
       "layout": "IPY_MODEL_11a85a2821814c3ea58daf7ac8c19252",
       "style": "IPY_MODEL_f8ecd33378c246c78a1a6e35aa20d085",
       "value": "ibmq_lima"
      }
     },
     "ccd43072835243018580435b87be0c49": {
      "model_module": "@jupyter-widgets/controls",
      "model_module_version": "1.5.0",
      "model_name": "HTMLModel",
      "state": {
       "layout": "IPY_MODEL_df018dadef0b4936a12b6bc0c70246d9",
       "style": "IPY_MODEL_859bdb0da77a4ae1b7cc6d34eb6754a8",
       "value": "<h5>Job ID</h5>"
      }
     },
     "d2d9ea6c0c6a43fc9b6d006658bc0fb6": {
      "model_module": "@jupyter-widgets/controls",
      "model_module_version": "1.5.0",
      "model_name": "DescriptionStyleModel",
      "state": {
       "description_width": ""
      }
     },
     "d86ed90d185447daab19b67140a8137e": {
      "model_module": "@jupyter-widgets/base",
      "model_module_version": "1.2.0",
      "model_name": "LayoutModel",
      "state": {
       "margin": "0px 0px 10px 0px"
      }
     },
     "da5648b676214cee9e881b74ce3b5ee6": {
      "model_module": "@jupyter-widgets/controls",
      "model_module_version": "1.5.0",
      "model_name": "HBoxModel",
      "state": {
       "children": [
        "IPY_MODEL_ccd43072835243018580435b87be0c49",
        "IPY_MODEL_7f3c65752bb6480a88e2174c3085bc72",
        "IPY_MODEL_bbeff1055b40400b8857b26ee3d59951",
        "IPY_MODEL_25f8318ed0094ae7a010d05f96322d65",
        "IPY_MODEL_1b8f5fa76e714c4a8b59a70bcc0c3597"
       ],
       "layout": "IPY_MODEL_2f2a998a5d8247f685d303748dcbd47a"
      }
     },
     "df018dadef0b4936a12b6bc0c70246d9": {
      "model_module": "@jupyter-widgets/base",
      "model_module_version": "1.2.0",
      "model_name": "LayoutModel",
      "state": {
       "width": "190px"
      }
     },
     "e50376fdd5fb41ccb4e51fff84ad56ce": {
      "model_module": "@jupyter-widgets/controls",
      "model_module_version": "1.5.0",
      "model_name": "DescriptionStyleModel",
      "state": {
       "description_width": ""
      }
     },
     "f0e8c592d5e348d9bf83484a9926ce4c": {
      "model_module": "@jupyter-widgets/base",
      "model_module_version": "1.2.0",
      "model_name": "LayoutModel",
      "state": {
       "width": "190px"
      }
     },
     "f1901f3b36634405a831b1681371e002": {
      "model_module": "@jupyter-widgets/controls",
      "model_module_version": "1.5.0",
      "model_name": "ButtonStyleModel",
      "state": {
       "button_color": "white"
      }
     },
     "f8ecd33378c246c78a1a6e35aa20d085": {
      "model_module": "@jupyter-widgets/controls",
      "model_module_version": "1.5.0",
      "model_name": "DescriptionStyleModel",
      "state": {
       "description_width": ""
      }
     }
    },
    "version_major": 2,
    "version_minor": 0
   }
  }
 },
 "nbformat": 4,
 "nbformat_minor": 5
}
