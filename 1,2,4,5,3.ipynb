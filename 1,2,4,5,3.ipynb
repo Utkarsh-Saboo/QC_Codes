{
 "cells": [
  {
   "cell_type": "code",
   "execution_count": 1,
   "id": "c9bb37ae-b253-477e-ad41-ef6ec8f6d96b",
   "metadata": {},
   "outputs": [
    {
     "name": "stderr",
     "output_type": "stream",
     "text": [
      "Matplotlib is building the font cache; this may take a moment.\n",
      "<frozen importlib._bootstrap>:219: RuntimeWarning: scipy._lib.messagestream.MessageStream size changed, may indicate binary incompatibility. Expected 56 from C header, got 64 from PyObject\n"
     ]
    }
   ],
   "source": [
    "import numpy as np\n",
    "\n",
    "# Importing standard Qiskit libraries\n",
    "from qiskit import QuantumCircuit, transpile, Aer, IBMQ\n",
    "from qiskit.tools.jupyter import *\n",
    "from qiskit.visualization import *\n",
    "from ibm_quantum_widgets import *\n",
    "from qiskit.providers.aer import QasmSimulator\n",
    "\n",
    "# Loading your IBM Quantum account(s)\n",
    "provider = IBMQ.load_account()"
   ]
  },
  {
   "cell_type": "code",
   "execution_count": 26,
   "id": "057cd8a5-af58-4767-b790-a796c3a5cda5",
   "metadata": {},
   "outputs": [
    {
     "name": "stderr",
     "output_type": "stream",
     "text": [
      "ibmqfactory.load_account:WARNING:2022-10-28 12:52:51,663: Credentials are already in use. The existing account in the session will be replaced.\n"
     ]
    },
    {
     "data": {
      "text/latex": [
       "$$\\frac{\\sqrt{2}}{2} |01\\rangle+\\frac{\\sqrt{2}}{2} |10\\rangle$$"
      ],
      "text/plain": [
       "<IPython.core.display.Latex object>"
      ]
     },
     "execution_count": 26,
     "metadata": {},
     "output_type": "execute_result"
    }
   ],
   "source": [
    "#UTKARSH SABOO_1248\n",
    "#1\n",
    "import numpy as np\n",
    "\n",
    "#Importing standard Qiskit libraries\n",
    "from qiskit import QuantumCircuit, transpile, Aer, IBMQ, execute\n",
    "from qiskit.tools.jupyter import *\n",
    "from qiskit.visualization import *\n",
    "from ibm_quantum_widgets import *\n",
    "from qiskit.providers.aer import QasmSimulator\n",
    "\n",
    "# Loading your IBM Quantum account(s)\n",
    "provider = IBMQ.load_account()\n",
    "\n",
    "qc1=QuantumCircuit(2,2)\n",
    "qc1.h(1)\n",
    "qc1.cx(0,1)\n",
    "qc1.cx(1,0)\n",
    "qc1.draw()\n",
    "\n",
    "from qiskit.quantum_info import Statevector\n",
    "state=Statevector.from_int(1,4)\n",
    "state=state.evolve(qc1)\n",
    "state.draw('latex')"
   ]
  },
  {
   "cell_type": "code",
   "execution_count": 27,
   "id": "3b2938b5-da4d-4bcc-946c-378bb4caa5eb",
   "metadata": {},
   "outputs": [
    {
     "data": {
      "text/latex": [
       "$$\n",
       "\\rho_{AB} = \n",
       "\\begin{bmatrix}\n",
       "\\tfrac{1}{2} & 0 & 0 & \\tfrac{1}{2}  \\\\\n",
       " 0 & 0 & 0 & 0  \\\\\n",
       " 0 & 0 & 0 & 0  \\\\\n",
       " \\tfrac{1}{2} & 0 & 0 & \\tfrac{1}{2}  \\\\\n",
       " \\end{bmatrix}\n",
       "$$"
      ],
      "text/plain": [
       "<IPython.core.display.Latex object>"
      ]
     },
     "execution_count": 27,
     "metadata": {},
     "output_type": "execute_result"
    }
   ],
   "source": [
    "#UTKARSH SABOO_1248\n",
    "#2\n",
    "qc2=QuantumCircuit(2,2)\n",
    "from qiskit.quantum_info import Statevector\n",
    "state=Statevector.from_int(1,4)\n",
    "state=state.evolve(qc2)\n",
    "state.draw('latex')\n",
    "qc2=QuantumCircuit(2,2)\n",
    "#qc.h(1)\n",
    "qc2.cx(0,1)\n",
    "qc2.h(1)\n",
    "qc2.cx(1,0)\n",
    "\n",
    "qc2.draw()\n",
    "\n",
    "from qiskit.quantum_info import Statevector,DensityMatrix\n",
    "state=Statevector.from_int(1,4)\n",
    "state=state.evolve(qc2)\n",
    "state.draw('latex')\n",
    "import qiskit.quantum_info as qi\n",
    "rho_AB = qi.DensityMatrix.from_instruction(qc2)\n",
    "rho_AB.draw('latex', prefix='\\\\rho_{AB} = ')"
   ]
  },
  {
   "cell_type": "code",
   "execution_count": 28,
   "id": "e69069a3-879e-4e88-a7a0-244f30183ac0",
   "metadata": {},
   "outputs": [
    {
     "name": "stderr",
     "output_type": "stream",
     "text": [
      "ibmqfactory.load_account:WARNING:2022-10-28 12:53:21,245: Credentials are already in use. The existing account in the session will be replaced.\n"
     ]
    },
    {
     "data": {
      "image/png": "[encoded data removed]",
      "text/plain": [
       "<Figure size 146.652x144.48 with 1 Axes>"
      ]
     },
     "execution_count": 28,
     "metadata": {},
     "output_type": "execute_result"
    }
   ],
   "source": [
    "#UTKARSH SABOO_1248\n",
    "#4\n",
    "# Importing standard Qiskit libraries\n",
    "from qiskit import QuantumCircuit, transpile, Aer, IBMQ\n",
    "from qiskit.tools.jupyter import *\n",
    "from qiskit.visualization import *\n",
    "from ibm_quantum_widgets import *\n",
    "from qiskit.providers.aer import QasmSimulator\n",
    "from qiskit.quantum_info import *\n",
    "from qiskit.visualization import plot_state_city\n",
    "# Loading your IBM Quantum account(s)\n",
    "import numpy as np\n",
    "provider = IBMQ.load_account()\n",
    "qc4 = QuantumCircuit(2)\n",
    "# swaps states of qubits a and b\n",
    "qc4.swap(0,1)\n",
    "qc4.draw()"
   ]
  },
  {
   "cell_type": "code",
   "execution_count": 29,
   "id": "0230183b-0f6a-49e9-8413-4082d7c631c8",
   "metadata": {},
   "outputs": [
    {
     "name": "stderr",
     "output_type": "stream",
     "text": [
      "ibmqfactory.load_account:WARNING:2022-10-28 12:53:34,006: Credentials are already in use. The existing account in the session will be replaced.\n"
     ]
    },
    {
     "data": {
      "image/png": "[encoded data removed]",
      "text/plain": [
       "<Figure size 447.797x325.08 with 1 Axes>"
      ]
     },
     "execution_count": 29,
     "metadata": {},
     "output_type": "execute_result"
    }
   ],
   "source": [
    "#UTKARSH SABOO_1248\n",
    "#5\n",
    "import numpy as np# Importing standard Qiskit libraries\n",
    "from qiskit import QuantumCircuit, transpile, Aer, IBMQ\n",
    "from qiskit.tools.jupyter import *\n",
    "from qiskit.visualization import *\n",
    "from ibm_quantum_widgets import *\n",
    "from qiskit.providers.aer import QasmSimulator\n",
    "provider = IBMQ.load_account()\n",
    "qc5 = QuantumCircuit(4,2)\n",
    "# encode inputs in qubits 0 and 1\n",
    "qc5.x(0)\n",
    "qc5.x(1)\n",
    "# use cnots to write the XOR of the inputs on qubit 2\n",
    "qc5.cx(0,2)\n",
    "qc5.cx(1,2)\n",
    "# use ccx to write the AND of the inputs on qubit 3\n",
    "qc5.ccx(0,1,3)# extract outputs\n",
    "qc5.measure(2,0) # extract XOR value\n",
    "qc5.measure(3,1) # extract AND value\n",
    "\n",
    "qc5.draw(output='mpl')"
   ]
  },
  {
   "cell_type": "code",
   "execution_count": null,
   "id": "624880df-9f51-4560-a358-8d2f0365b6a7",
   "metadata": {},
   "outputs": [],
   "source": [
    "#UTKARSH SABOO_1248\n",
    "#3\n",
    "from qiskit import QuantumCircuit,QuantumRegister\n",
    "from qiskit.quantum_info import DensityMatrix,partial_trace\n",
    "import numpy as np\n",
    "qr3=QuantumRegister(2)\n",
    "circ=QuantumCircuit(qr3)\n",
    "circ.h(qr3[0])\n",
    "circ.cx(qr3[0],qr3[1])\n",
    "DM=DensityMatrix.from_instruction(circ)\n",
    "print(DM.data)\n",
    "PT=partial_trace(DM,[0])\n",
    "print(PT.data)"
   ]
  }
 ],
 "metadata": {
  "kernelspec": {
   "display_name": "Python 3 (ipykernel)",
   "language": "python",
   "name": "python3"
  },
  "language_info": {
   "codemirror_mode": {
    "name": "ipython",
    "version": 3
   },
   "file_extension": ".py",
   "mimetype": "text/x-python",
   "name": "python",
   "nbconvert_exporter": "python",
   "pygments_lexer": "ipython3",
   "version": "3.8.13"
  },
  "widgets": {
   "application/vnd.jupyter.widget-state+json": {
    "state": {
     "0cacb41616ae4688899deab12f4d24fe": {
      "model_module": "@jupyter-widgets/controls",
      "model_module_version": "1.5.0",
      "model_name": "DescriptionStyleModel",
      "state": {
       "description_width": ""
      }
     },
     "150e3ae8e77146c695a57df98242ff49": {
      "model_module": "@jupyter-widgets/controls",
      "model_module_version": "1.5.0",
      "model_name": "DescriptionStyleModel",
      "state": {
       "description_width": ""
      }
     },
     "182a85f98b394f4f8421ca0ce20560fb": {
      "model_module": "@jupyter-widgets/base",
      "model_module_version": "1.2.0",
      "model_name": "LayoutModel",
      "state": {
       "width": "190px"
      }
     },
     "1bdf376d59444b2598cf56b8f7291ac4": {
      "model_module": "@jupyter-widgets/controls",
      "model_module_version": "1.5.0",
      "model_name": "HTMLModel",
      "state": {
       "layout": "IPY_MODEL_93bd7dffe7334831899810f8acb698bb",
       "style": "IPY_MODEL_23d203420c4a4389a2d25abbb028f790",
       "value": "<h5>Queue</h5>"
      }
     },
     "23d203420c4a4389a2d25abbb028f790": {
      "model_module": "@jupyter-widgets/controls",
      "model_module_version": "1.5.0",
      "model_name": "DescriptionStyleModel",
      "state": {
       "description_width": ""
      }
     },
     "338bff298ff54fd18c4edcd1d5ddf761": {
      "model_module": "@jupyter-widgets/controls",
      "model_module_version": "1.5.0",
      "model_name": "DescriptionStyleModel",
      "state": {
       "description_width": ""
      }
     },
     "3c26b22863eb42078bd36c263326b883": {
      "model_module": "@jupyter-widgets/controls",
      "model_module_version": "1.5.0",
      "model_name": "HBoxModel",
      "state": {
       "children": [
        "IPY_MODEL_679409b48bc54c0b83b8cbc74eb76cc7",
        "IPY_MODEL_645b56325d4a4a7fa15d64c43c5a4cd4",
        "IPY_MODEL_a45500afb22a454eaac68c86ac64f2ec",
        "IPY_MODEL_1bdf376d59444b2598cf56b8f7291ac4",
        "IPY_MODEL_51f54cb23ef544e898d3d888cc2c4652"
       ],
       "layout": "IPY_MODEL_c6d5bf8b5519467086da0321579431e5"
      }
     },
     "4d17a2739be844e0bc352e330365a996": {
      "model_module": "@jupyter-widgets/base",
      "model_module_version": "1.2.0",
      "model_name": "LayoutModel",
      "state": {}
     },
     "4f6fc2bcc8d34681938956d13eab1c4b": {
      "model_module": "@jupyter-widgets/base",
      "model_module_version": "1.2.0",
      "model_name": "LayoutModel",
      "state": {
       "grid_template_areas": "\n                                       \". . . . right \"\n                                        ",
       "grid_template_columns": "20% 20% 20% 20% 20%",
       "width": "100%"
      }
     },
     "51f54cb23ef544e898d3d888cc2c4652": {
      "model_module": "@jupyter-widgets/controls",
      "model_module_version": "1.5.0",
      "model_name": "HTMLModel",
      "state": {
       "layout": "IPY_MODEL_4d17a2739be844e0bc352e330365a996",
       "style": "IPY_MODEL_8f5d86b07ccf466cbedfb4ba42647dda",
       "value": "<h5>Message</h5>"
      }
     },
     "5344ce1aa2ac4d78b2bc17e18e25af62": {
      "model_module": "@jupyter-widgets/controls",
      "model_module_version": "1.5.0",
      "model_name": "DescriptionStyleModel",
      "state": {
       "description_width": ""
      }
     },
     "5eef34a683004acf923870980259cd4c": {
      "model_module": "@jupyter-widgets/base",
      "model_module_version": "1.2.0",
      "model_name": "LayoutModel",
      "state": {
       "margin": "0px 0px 10px 0px"
      }
     },
     "5f7752c54abe49bd8fc6efe64096cc26": {
      "model_module": "@jupyter-widgets/base",
      "model_module_version": "1.2.0",
      "model_name": "LayoutModel",
      "state": {
       "width": "95px"
      }
     },
     "645b56325d4a4a7fa15d64c43c5a4cd4": {
      "model_module": "@jupyter-widgets/controls",
      "model_module_version": "1.5.0",
      "model_name": "HTMLModel",
      "state": {
       "layout": "IPY_MODEL_866744b3185f49298bf23cd117032904",
       "style": "IPY_MODEL_0cacb41616ae4688899deab12f4d24fe",
       "value": "<h5>Backend</h5>"
      }
     },
     "679409b48bc54c0b83b8cbc74eb76cc7": {
      "model_module": "@jupyter-widgets/controls",
      "model_module_version": "1.5.0",
      "model_name": "HTMLModel",
      "state": {
       "layout": "IPY_MODEL_182a85f98b394f4f8421ca0ce20560fb",
       "style": "IPY_MODEL_338bff298ff54fd18c4edcd1d5ddf761",
       "value": "<h5>Job ID</h5>"
      }
     },
     "7406116df21d4d9a8e10697c8f82f344": {
      "model_module": "@jupyter-widgets/controls",
      "model_module_version": "1.5.0",
      "model_name": "ButtonModel",
      "state": {
       "button_style": "primary",
       "description": "Clear",
       "layout": "IPY_MODEL_b12a2d05a77540008d0afa45e45a9bbd",
       "style": "IPY_MODEL_bcab27dcfd4e4cac9e3896099fb5a4d2"
      }
     },
     "75a4d872218840b6a20e04a3edd9beb4": {
      "model_module": "@jupyter-widgets/controls",
      "model_module_version": "1.5.0",
      "model_name": "HTMLModel",
      "state": {
       "layout": "IPY_MODEL_5eef34a683004acf923870980259cd4c",
       "style": "IPY_MODEL_150e3ae8e77146c695a57df98242ff49",
       "value": "<p style='font-family: IBM Plex Sans, Arial, Helvetica, sans-serif; font-size: 20px; font-weight: medium;'>Circuit Properties</p>"
      }
     },
     "866744b3185f49298bf23cd117032904": {
      "model_module": "@jupyter-widgets/base",
      "model_module_version": "1.2.0",
      "model_name": "LayoutModel",
      "state": {
       "width": "145px"
      }
     },
     "8f5d86b07ccf466cbedfb4ba42647dda": {
      "model_module": "@jupyter-widgets/controls",
      "model_module_version": "1.5.0",
      "model_name": "DescriptionStyleModel",
      "state": {
       "description_width": ""
      }
     },
     "905ebd1b402b48108cc4b5e9b92daf36": {
      "model_module": "@jupyter-widgets/controls",
      "model_module_version": "1.5.0",
      "model_name": "GridBoxModel",
      "state": {
       "children": [
        "IPY_MODEL_7406116df21d4d9a8e10697c8f82f344"
       ],
       "layout": "IPY_MODEL_4f6fc2bcc8d34681938956d13eab1c4b"
      }
     },
     "93bd7dffe7334831899810f8acb698bb": {
      "model_module": "@jupyter-widgets/base",
      "model_module_version": "1.2.0",
      "model_name": "LayoutModel",
      "state": {
       "width": "70px"
      }
     },
     "a45500afb22a454eaac68c86ac64f2ec": {
      "model_module": "@jupyter-widgets/controls",
      "model_module_version": "1.5.0",
      "model_name": "HTMLModel",
      "state": {
       "layout": "IPY_MODEL_5f7752c54abe49bd8fc6efe64096cc26",
       "style": "IPY_MODEL_5344ce1aa2ac4d78b2bc17e18e25af62",
       "value": "<h5>Status</h5>"
      }
     },
     "b12a2d05a77540008d0afa45e45a9bbd": {
      "model_module": "@jupyter-widgets/base",
      "model_module_version": "1.2.0",
      "model_name": "LayoutModel",
      "state": {
       "grid_area": "right",
       "padding": "0px 0px 0px 0px",
       "width": "70px"
      }
     },
     "bcab27dcfd4e4cac9e3896099fb5a4d2": {
      "model_module": "@jupyter-widgets/controls",
      "model_module_version": "1.5.0",
      "model_name": "ButtonStyleModel",
      "state": {}
     },
     "c6d5bf8b5519467086da0321579431e5": {
      "model_module": "@jupyter-widgets/base",
      "model_module_version": "1.2.0",
      "model_name": "LayoutModel",
      "state": {
       "margin": "0px 0px 0px 37px",
       "width": "600px"
      }
     }
    },
    "version_major": 2,
    "version_minor": 0
   }
  }
 },
 "nbformat": 4,
 "nbformat_minor": 5
}
